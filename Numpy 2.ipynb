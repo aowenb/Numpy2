{
 "metadata": {
  "language_info": {
   "codemirror_mode": {
    "name": "ipython",
    "version": 3
   },
   "file_extension": ".py",
   "mimetype": "text/x-python",
   "name": "python",
   "nbconvert_exporter": "python",
   "pygments_lexer": "ipython3",
   "version": "3.9.2-final"
  },
  "orig_nbformat": 2,
  "kernelspec": {
   "name": "python3",
   "display_name": "Python 3.9.2 64-bit",
   "metadata": {
    "interpreter": {
     "hash": "aee8b7b246df8f9039afb4144a1f6fd8d2ca17a180786b69acc140d282b71a49"
    }
   }
  }
 },
 "nbformat": 4,
 "nbformat_minor": 2,
 "cells": [
  {
   "cell_type": "code",
   "execution_count": 2,
   "metadata": {},
   "outputs": [],
   "source": [
    "import numpy as np"
   ]
  },
  {
   "cell_type": "code",
   "execution_count": 4,
   "metadata": {},
   "outputs": [
    {
     "output_type": "execute_result",
     "data": {
      "text/plain": [
       "array([ 0,  1,  2,  3,  4,  5,  6,  7,  8,  9, 10])"
      ]
     },
     "metadata": {},
     "execution_count": 4
    }
   ],
   "source": [
    "arr = np.arange(0,11)\n",
    "arr"
   ]
  },
  {
   "cell_type": "code",
   "execution_count": 9,
   "metadata": {},
   "outputs": [
    {
     "output_type": "execute_result",
     "data": {
      "text/plain": [
       "array([[[ 0,  1,  2],\n",
       "        [ 3,  4,  5],\n",
       "        [ 6,  7,  8]],\n",
       "\n",
       "       [[ 9, 10, 11],\n",
       "        [12, 13, 14],\n",
       "        [15, 16, 17]],\n",
       "\n",
       "       [[18, 19, 20],\n",
       "        [21, 22, 23],\n",
       "        [24, 25, 26]]])"
      ]
     },
     "metadata": {},
     "execution_count": 9
    }
   ],
   "source": [
    "array_3d = np.arange(0,27).reshape(3,3,3)\n",
    "array_3d"
   ]
  },
  {
   "cell_type": "code",
   "execution_count": 10,
   "metadata": {},
   "outputs": [
    {
     "output_type": "execute_result",
     "data": {
      "text/plain": [
       "array([  0,   1,   4,   9,  16,  25,  36,  49,  64,  81, 100])"
      ]
     },
     "metadata": {},
     "execution_count": 10
    }
   ],
   "source": [
    "arr * arr"
   ]
  },
  {
   "cell_type": "code",
   "execution_count": 11,
   "metadata": {},
   "outputs": [
    {
     "output_type": "execute_result",
     "data": {
      "text/plain": [
       "array([[[ 0,  2,  4],\n",
       "        [ 6,  8, 10],\n",
       "        [12, 14, 16]],\n",
       "\n",
       "       [[18, 20, 22],\n",
       "        [24, 26, 28],\n",
       "        [30, 32, 34]],\n",
       "\n",
       "       [[36, 38, 40],\n",
       "        [42, 44, 46],\n",
       "        [48, 50, 52]]])"
      ]
     },
     "metadata": {},
     "execution_count": 11
    }
   ],
   "source": [
    "array_3d * 2"
   ]
  },
  {
   "cell_type": "code",
   "execution_count": 14,
   "metadata": {},
   "outputs": [
    {
     "output_type": "execute_result",
     "data": {
      "text/plain": [
       "array([[1., 1., 1.],\n",
       "       [1., 1., 1.],\n",
       "       [1., 1., 1.]])"
      ]
     },
     "metadata": {},
     "execution_count": 14
    }
   ],
   "source": [
    "one_array = np.ones((3,3))\n",
    "one_array"
   ]
  },
  {
   "cell_type": "code",
   "execution_count": 16,
   "metadata": {},
   "outputs": [
    {
     "output_type": "execute_result",
     "data": {
      "text/plain": [
       "array([1, 2, 3])"
      ]
     },
     "metadata": {},
     "execution_count": 16
    }
   ],
   "source": [
    "mult = np.arange(1,4)\n",
    "mult"
   ]
  },
  {
   "cell_type": "code",
   "execution_count": 17,
   "metadata": {},
   "outputs": [
    {
     "output_type": "execute_result",
     "data": {
      "text/plain": [
       "array([[1., 2., 3.],\n",
       "       [1., 2., 3.],\n",
       "       [1., 2., 3.]])"
      ]
     },
     "metadata": {},
     "execution_count": 17
    }
   ],
   "source": [
    "one_array * mult"
   ]
  },
  {
   "cell_type": "code",
   "execution_count": 18,
   "metadata": {},
   "outputs": [
    {
     "output_type": "execute_result",
     "data": {
      "text/plain": [
       "array([[[0.        , 1.        , 1.41421356],\n",
       "        [1.73205081, 2.        , 2.23606798],\n",
       "        [2.44948974, 2.64575131, 2.82842712]],\n",
       "\n",
       "       [[3.        , 3.16227766, 3.31662479],\n",
       "        [3.46410162, 3.60555128, 3.74165739],\n",
       "        [3.87298335, 4.        , 4.12310563]],\n",
       "\n",
       "       [[4.24264069, 4.35889894, 4.47213595],\n",
       "        [4.58257569, 4.69041576, 4.79583152],\n",
       "        [4.89897949, 5.        , 5.09901951]]])"
      ]
     },
     "metadata": {},
     "execution_count": 18
    }
   ],
   "source": [
    "np.sqrt(array_3d)"
   ]
  },
  {
   "cell_type": "code",
   "execution_count": 19,
   "metadata": {},
   "outputs": [
    {
     "output_type": "execute_result",
     "data": {
      "text/plain": [
       "array([[[1.00000000e+00, 2.71828183e+00, 7.38905610e+00],\n",
       "        [2.00855369e+01, 5.45981500e+01, 1.48413159e+02],\n",
       "        [4.03428793e+02, 1.09663316e+03, 2.98095799e+03]],\n",
       "\n",
       "       [[8.10308393e+03, 2.20264658e+04, 5.98741417e+04],\n",
       "        [1.62754791e+05, 4.42413392e+05, 1.20260428e+06],\n",
       "        [3.26901737e+06, 8.88611052e+06, 2.41549528e+07]],\n",
       "\n",
       "       [[6.56599691e+07, 1.78482301e+08, 4.85165195e+08],\n",
       "        [1.31881573e+09, 3.58491285e+09, 9.74480345e+09],\n",
       "        [2.64891221e+10, 7.20048993e+10, 1.95729609e+11]]])"
      ]
     },
     "metadata": {},
     "execution_count": 19
    }
   ],
   "source": [
    "np.exp(array_3d)"
   ]
  },
  {
   "cell_type": "code",
   "execution_count": 20,
   "metadata": {},
   "outputs": [
    {
     "output_type": "execute_result",
     "data": {
      "text/plain": [
       "array([[[ 0.        ,  0.84147098,  0.90929743],\n",
       "        [ 0.14112001, -0.7568025 , -0.95892427],\n",
       "        [-0.2794155 ,  0.6569866 ,  0.98935825]],\n",
       "\n",
       "       [[ 0.41211849, -0.54402111, -0.99999021],\n",
       "        [-0.53657292,  0.42016704,  0.99060736],\n",
       "        [ 0.65028784, -0.28790332, -0.96139749]],\n",
       "\n",
       "       [[-0.75098725,  0.14987721,  0.91294525],\n",
       "        [ 0.83665564, -0.00885131, -0.8462204 ],\n",
       "        [-0.90557836, -0.13235175,  0.76255845]]])"
      ]
     },
     "metadata": {},
     "execution_count": 20
    }
   ],
   "source": [
    "np.sin(array_3d)"
   ]
  },
  {
   "cell_type": "code",
   "execution_count": 21,
   "metadata": {},
   "outputs": [
    {
     "output_type": "execute_result",
     "data": {
      "text/plain": [
       "array([[[ 1.        ,  0.54030231, -0.41614684],\n",
       "        [-0.9899925 , -0.65364362,  0.28366219],\n",
       "        [ 0.96017029,  0.75390225, -0.14550003]],\n",
       "\n",
       "       [[-0.91113026, -0.83907153,  0.0044257 ],\n",
       "        [ 0.84385396,  0.90744678,  0.13673722],\n",
       "        [-0.75968791, -0.95765948, -0.27516334]],\n",
       "\n",
       "       [[ 0.66031671,  0.98870462,  0.40808206],\n",
       "        [-0.54772926, -0.99996083, -0.53283302],\n",
       "        [ 0.42417901,  0.99120281,  0.64691932]]])"
      ]
     },
     "metadata": {},
     "execution_count": 21
    }
   ],
   "source": [
    "np.cos(array_3d)"
   ]
  },
  {
   "cell_type": "code",
   "execution_count": 22,
   "metadata": {},
   "outputs": [
    {
     "output_type": "stream",
     "name": "stderr",
     "text": [
      "<ipython-input-22-b4fc381d176f>:1: RuntimeWarning: divide by zero encountered in log\n  np.log(array_3d)\n"
     ]
    },
    {
     "output_type": "execute_result",
     "data": {
      "text/plain": [
       "array([[[      -inf, 0.        , 0.69314718],\n",
       "        [1.09861229, 1.38629436, 1.60943791],\n",
       "        [1.79175947, 1.94591015, 2.07944154]],\n",
       "\n",
       "       [[2.19722458, 2.30258509, 2.39789527],\n",
       "        [2.48490665, 2.56494936, 2.63905733],\n",
       "        [2.7080502 , 2.77258872, 2.83321334]],\n",
       "\n",
       "       [[2.89037176, 2.94443898, 2.99573227],\n",
       "        [3.04452244, 3.09104245, 3.13549422],\n",
       "        [3.17805383, 3.21887582, 3.25809654]]])"
      ]
     },
     "metadata": {},
     "execution_count": 22
    }
   ],
   "source": [
    "np.log(array_3d)"
   ]
  },
  {
   "cell_type": "code",
   "execution_count": 23,
   "metadata": {},
   "outputs": [
    {
     "output_type": "execute_result",
     "data": {
      "text/plain": [
       "array([[[ 0.00000000e+00,  1.55740772e+00, -2.18503986e+00],\n",
       "        [-1.42546543e-01,  1.15782128e+00, -3.38051501e+00],\n",
       "        [-2.91006191e-01,  8.71447983e-01, -6.79971146e+00]],\n",
       "\n",
       "       [[-4.52315659e-01,  6.48360827e-01, -2.25950846e+02],\n",
       "        [-6.35859929e-01,  4.63021133e-01,  7.24460662e+00],\n",
       "        [-8.55993401e-01,  3.00632242e-01,  3.49391565e+00]],\n",
       "\n",
       "       [[-1.13731371e+00,  1.51589471e-01,  2.23716094e+00],\n",
       "        [-1.52749853e+00,  8.85165604e-03,  1.58815308e+00],\n",
       "        [-2.13489670e+00, -1.33526407e-01,  1.17875355e+00]]])"
      ]
     },
     "metadata": {},
     "execution_count": 23
    }
   ],
   "source": [
    "np.tan(array_3d)"
   ]
  },
  {
   "cell_type": "code",
   "execution_count": 25,
   "metadata": {},
   "outputs": [
    {
     "output_type": "execute_result",
     "data": {
      "text/plain": [
       "array([  0,   1,   2,   3, 999,   4,   5,   6,   7,   8,   9,  10])"
      ]
     },
     "metadata": {},
     "execution_count": 25
    }
   ],
   "source": [
    "np.insert(arr,4,999)"
   ]
  },
  {
   "cell_type": "code",
   "execution_count": 26,
   "metadata": {},
   "outputs": [
    {
     "output_type": "execute_result",
     "data": {
      "text/plain": [
       "array([ 0,  1,  2,  3,  5,  6,  7,  8,  9, 10])"
      ]
     },
     "metadata": {},
     "execution_count": 26
    }
   ],
   "source": [
    "np.delete(arr,4)"
   ]
  },
  {
   "cell_type": "code",
   "execution_count": 27,
   "metadata": {},
   "outputs": [
    {
     "output_type": "execute_result",
     "data": {
      "text/plain": [
       "array([ 0,  1,  2,  3,  4,  5,  6,  7,  8,  9, 10, 11])"
      ]
     },
     "metadata": {},
     "execution_count": 27
    }
   ],
   "source": [
    "np.append(arr,11)"
   ]
  },
  {
   "cell_type": "code",
   "execution_count": 29,
   "metadata": {},
   "outputs": [
    {
     "output_type": "execute_result",
     "data": {
      "text/plain": [
       "array([[1, 2],\n",
       "       [3, 4],\n",
       "       [5, 6]])"
      ]
     },
     "metadata": {},
     "execution_count": 29
    }
   ],
   "source": [
    "a = np.arange(1,5).reshape(2,2)\n",
    "b = np.array([[5,6]])\n",
    "np.concatenate((a,b),axis = 0)"
   ]
  },
  {
   "cell_type": "code",
   "execution_count": 30,
   "metadata": {},
   "outputs": [
    {
     "output_type": "execute_result",
     "data": {
      "text/plain": [
       "array([1, 2, 3, 4, 5, 6])"
      ]
     },
     "metadata": {},
     "execution_count": 30
    }
   ],
   "source": [
    "np.concatenate((a,b),axis = None)"
   ]
  },
  {
   "cell_type": "code",
   "execution_count": 32,
   "metadata": {},
   "outputs": [
    {
     "output_type": "execute_result",
     "data": {
      "text/plain": [
       "array([0, 1, 2, 3, 4, 5, 1, 1, 1, 1, 1])"
      ]
     },
     "metadata": {},
     "execution_count": 32
    }
   ],
   "source": [
    "np.where(arr>5,1,arr)"
   ]
  },
  {
   "cell_type": "code",
   "execution_count": 33,
   "metadata": {},
   "outputs": [
    {
     "output_type": "execute_result",
     "data": {
      "text/plain": [
       "array(['even', 'odd', 'even', 'odd', 'even', 'odd', 'even', 'odd', 'even',\n",
       "       'odd', 'even'], dtype='<U4')"
      ]
     },
     "metadata": {},
     "execution_count": 33
    }
   ],
   "source": [
    "np.where(arr%2==0,'even','odd')"
   ]
  }
 ]
}